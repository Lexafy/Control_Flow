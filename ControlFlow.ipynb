{
 "cells": [
  {
   "cell_type": "code",
   "execution_count": 1,
   "metadata": {},
   "outputs": [
    {
     "data": {
      "text/plain": [
       "'\\n\\n    Conditional Statements\\n    Boolean Expressions\\n    For and While Loops\\n    Break and Continue\\n    Zip and Enumerate\\n    List Comprehensions\\n\\n'"
      ]
     },
     "execution_count": 1,
     "metadata": {},
     "output_type": "execute_result"
    }
   ],
   "source": [
    "'''\n",
    "\n",
    "    Conditional Statements\n",
    "    Boolean Expressions\n",
    "    For and While Loops\n",
    "    Break and Continue\n",
    "    Zip and Enumerate\n",
    "    List Comprehensions\n",
    "\n",
    "'''"
   ]
  },
  {
   "cell_type": "code",
   "execution_count": 2,
   "metadata": {},
   "outputs": [
    {
     "name": "stdout",
     "output_type": "stream",
     "text": [
      "13 90\n"
     ]
    }
   ],
   "source": [
    "# The If statement\n",
    "\n",
    "phone_balance = 3\n",
    "bank_balance = 100\n",
    "\n",
    "if phone_balance < 5:\n",
    "    phone_balance += 10\n",
    "    bank_balance -= 10\n",
    "\n",
    "print(phone_balance, bank_balance)"
   ]
  },
  {
   "cell_type": "code",
   "execution_count": 10,
   "metadata": {},
   "outputs": [
    {
     "name": "stdout",
     "output_type": "stream",
     "text": [
      "harvest the garden!\n"
     ]
    }
   ],
   "source": [
    "# If, Elif, Else\n",
    "\n",
    "season = 'fall'\n",
    "\n",
    "if season == 'spring':\n",
    "    print('plant the garden!')\n",
    "elif season == 'summer':\n",
    "    print('water the garden!')\n",
    "elif season == 'fall':\n",
    "    print('harvest the garden!')\n",
    "elif season == 'winter':\n",
    "    print('stay indoors!')\n",
    "else:\n",
    "    print('unrecognized season')"
   ]
  },
  {
   "cell_type": "code",
   "execution_count": 13,
   "metadata": {},
   "outputs": [
    {
     "name": "stdout",
     "output_type": "stream",
     "text": [
      "Oga Yellow, how far?\n"
     ]
    }
   ],
   "source": [
    "# Testing out If, Elif and Else statements\n",
    "# Note: Moses is a friend's name, and we joked about this, make nobody drag me\n",
    "# later for wetin I no know\n",
    "\n",
    "Moses = 'light skinned'\n",
    "\n",
    "if Moses == 'dark skinned':\n",
    "    print('This nigga don suffer')\n",
    "elif Moses == 'Semi-light skin':\n",
    "    print('Guy, you don feel am small o')\n",
    "elif Moses == 'albino':\n",
    "    print('Nigga, you tryna bleach your already yellow skin?')\n",
    "elif Moses == 'light skinned':\n",
    "    print('Oga Yellow, how far?')\n",
    "else:\n",
    "    print('Hell nah, this nigga aint the Moses we all know')"
   ]
  },
  {
   "cell_type": "code",
   "execution_count": 14,
   "metadata": {},
   "outputs": [
    {
     "name": "stdout",
     "output_type": "stream",
     "text": [
      "Number 145 is odd.\n"
     ]
    }
   ],
   "source": [
    "number = 145\n",
    "if number % 2 == 0:\n",
    "    print(\"Number \" + str(number) + \" is even.\")\n",
    "else:\n",
    "    print(\"Number \" + str(number) + \" is odd.\")"
   ]
  },
  {
   "cell_type": "code",
   "execution_count": 15,
   "metadata": {},
   "outputs": [
    {
     "name": "stdout",
     "output_type": "stream",
     "text": [
      "Somebody who is 35 years old will pay $2.5 to ride the bus.\n"
     ]
    }
   ],
   "source": [
    "age = 35\n",
    "\n",
    "# Here are the age limits for bus fares\n",
    "free_up_to_age = 4\n",
    "child_up_to_age = 18\n",
    "senior_from_age = 65\n",
    "\n",
    "# These lines determine the bus fare prices\n",
    "concession_ticket = 1.25\n",
    "adult_ticket = 2.50\n",
    "\n",
    "# Here is the logic for bus fare prices\n",
    "if age <= free_up_to_age:\n",
    "    ticket_price = 0\n",
    "elif age <= child_up_to_age:\n",
    "    ticket_price = concession_ticket\n",
    "elif age >= senior_from_age:\n",
    "    ticket_price = concession_ticket\n",
    "else:\n",
    "    ticket_price = adult_ticket\n",
    "\n",
    "message = \"Somebody who is {} years old will pay ${} to ride the bus.\".format(age, ticket_price)\n",
    "print(message)"
   ]
  },
  {
   "cell_type": "code",
   "execution_count": 18,
   "metadata": {},
   "outputs": [
    {
     "name": "stdout",
     "output_type": "stream",
     "text": [
      "Congratulations! You won a wafer-thin mint!\n"
     ]
    }
   ],
   "source": [
    "''' \n",
    "Write an if statement that lets a competitor know which of these prizes they \n",
    "won based on the number of points they scored, which is stored in the integer \n",
    "variable points.\n",
    "Points \tPrize\n",
    "1 - 50 \twooden rabbit\n",
    "51 - 150 \tno prize\n",
    "151 - 180 \twafer-thin mint\n",
    "181 - 200 \tpenguin\n",
    "\n",
    "All of the lower and upper bounds here are inclusive, and points can only take\n",
    "on positive integer values up to 200.\n",
    "\n",
    "In your if statement, assign the result variable to a string holding the \n",
    "appropriate message based on the value of points. If they've won a prize, \n",
    "the message should state \"Congratulations! You won a [prize name]!\" with the \n",
    "prize name. If there's no prize, the message should state \n",
    "\"Oh dear, no prize this time.\"\n",
    "'''\n",
    "\n",
    "points = 174\n",
    "\n",
    "if points >= 1 and points <= 50:\n",
    "    result = \"Congratulations! You won a wooden rabbit!\"\n",
    "elif points >= 51 and points <= 150:\n",
    "    result = \"Oh dear, no prize this time.\"\n",
    "elif points >= 151 and points <= 180:\n",
    "    result = \"Congratulations! You won a wafer-thin mint!\"\n",
    "elif points >= 181 and points <= 200:\n",
    "    result = \"Congratulations! You won a penguin!\"\n",
    "\n",
    "print(result)\n"
   ]
  },
  {
   "cell_type": "code",
   "execution_count": 24,
   "metadata": {},
   "outputs": [
    {
     "name": "stdout",
     "output_type": "stream",
     "text": [
      "Oops!  Your guess was too high.\n"
     ]
    }
   ],
   "source": [
    "# '''\n",
    "# You decide you want to play a game where you are hiding \n",
    "# a number from someone.  Store this number in a variable \n",
    "# called 'answer'.  Another user provides a number called\n",
    "# 'guess'.  By comparing guess to answer, you inform the user\n",
    "# if their guess is too high or too low.\n",
    "\n",
    "# Fill in the conditionals below to inform the user about how\n",
    "# their guess compares to the answer.\n",
    "# '''\n",
    "answer = 76 #provide answer\n",
    "guess = 106 #provide guess\n",
    "\n",
    "if guess < answer: #provide conditional\n",
    "    result = \"Oops!  Your guess was too low.\"\n",
    "elif guess > answer: #provide conditional\n",
    "    result = \"Oops!  Your guess was too high.\"\n",
    "elif guess == answer: #provide conditional\n",
    "    result = \"Nice!  Your guess matched the answer!\"\n",
    "\n",
    "print(result)"
   ]
  },
  {
   "cell_type": "code",
   "execution_count": 25,
   "metadata": {},
   "outputs": [
    {
     "name": "stdout",
     "output_type": "stream",
     "text": [
      "Since you're from CA, your total cost is 365.5.\n"
     ]
    }
   ],
   "source": [
    "# '''\n",
    "# Depending on where an individual is from we need to tax them appropriately.\n",
    "# The states of CA, MN, and NY have taxes of 7.5%, 9.5%, and 8.9% respectively.\n",
    "# Use this information to take the amount of a purchase and the corresponding \n",
    "# state to assure that they are taxed by the right amount.\n",
    "# '''\n",
    "state = 'CA' #Either CA, MN, or NY\n",
    "purchase_amount = 340 #amount of purchase\n",
    "\n",
    "if state ==  'CA': #provide conditional for checking state is CA\n",
    "    tax_amount = .075\n",
    "    total_cost = purchase_amount*(1+tax_amount)\n",
    "    result = \"Since you're from {}, your total cost is {}.\".format(state, total_cost)\n",
    "\n",
    "elif state == 'MN': #provide conditional for checking state is MN\n",
    "    tax_amount = .095\n",
    "    total_cost = purchase_amount*(1+tax_amount)\n",
    "    result = \"Since you're from {}, your total cost is {}.\".format(state, total_cost)\n",
    "\n",
    "elif state == 'NY': #provide conditional for checking state is NY\n",
    "    tax_amount = .089\n",
    "    total_cost = purchase_amount*(1+tax_amount)\n",
    "    result = \"Since you're from {}, your total cost is {}.\".format(state, total_cost)\n",
    "\n",
    "print(result)"
   ]
  },
  {
   "attachments": {},
   "cell_type": "markdown",
   "metadata": {},
   "source": [
    "However simple or complex, the condition in an if statement must be a boolean expression that evaluates to either True or False and it is this value that decides whether the indented block in an if statement executes or not."
   ]
  },
  {
   "cell_type": "code",
   "execution_count": 28,
   "metadata": {},
   "outputs": [
    {
     "name": "stdout",
     "output_type": "stream",
     "text": [
      "Congratulations! You won a wafer-thin mint!\n"
     ]
    }
   ],
   "source": [
    "''' \n",
    "The code below is the solution to the Which Prize quiz you've seen previously.\n",
    "You're going to rewrite this based on what you've learned about truth values.\n",
    "\n",
    "points = 174\n",
    "\n",
    "if points <= 50:\n",
    "    result = \"Congratulations! You won a wooden rabbit!\"\n",
    "elif points <= 150:\n",
    "    result = \"Oh dear, no prize this time.\"\n",
    "elif points <= 180:\n",
    "    result = \"Congratulations! You won a wafer-thin mint!\"\n",
    "else:\n",
    "    result = \"Congratulations! You won a penguin!\"\n",
    "\n",
    "print(result)\n",
    "\n",
    "\n",
    "You will use a new variable prize to store a prize name if one was won, and \n",
    "then use the truth value of this variable to compose the result message. This\n",
    "will involve two if statements.\n",
    "\n",
    "1st conditional statement: update prize to the correct prize name based on points.\n",
    "2nd conditional statement: set result to the correct phrase based on whether\n",
    "prize is evaluated as True or False.\n",
    "\n",
    "    If prize is None, result should be set to \"Oh dear, no prize this time.\"\n",
    "    If prize contains a prize name, result should be set to \"Congratulations! \n",
    "    You won a {}!\".format(prize). \n",
    "    This will avoid having the multiple result assignments for different prizes.\n",
    "\n",
    "At the beginning of your code, set prize to None, as the default value.\n",
    "\n",
    "'''\n",
    "\n",
    "points = 174\n",
    "prize = None\n",
    "\n",
    "if points <= 50:\n",
    "    prize = \"wooden rabbit\"\n",
    "elif points <= 150:\n",
    "    prize = None\n",
    "elif points <= 180:\n",
    "    prize = \"wafer-thin mint\"\n",
    "else:\n",
    "    prize = \"penguin\"\n",
    "\n",
    "if prize:\n",
    "    result = \"Congratulations! You won a {}!\".format(prize)\n",
    "else:\n",
    "    result = \"Oh dear, no prize this time.\"\n",
    "\n",
    "print(result)\n"
   ]
  },
  {
   "attachments": {},
   "cell_type": "markdown",
   "metadata": {},
   "source": [
    "## Loops\n",
    "\n",
    "A while loop has three important parts:\n",
    "\n",
    "    The keyword while, followed by a space.\n",
    "\n",
    "    The condition you'll test. If the condition is true, the code inside the while loop will run.\n",
    "\n",
    "    The code you want to run for each iteration, indented with nested whitespace. For example:\n"
   ]
  },
  {
   "attachments": {},
   "cell_type": "markdown",
   "metadata": {},
   "source": [
    "# While Loop\n",
    "The syntax of a while loop is similar to an if statement. \n",
    "You provide both a condition and the code you want to run while the condition is true."
   ]
  },
  {
   "cell_type": "code",
   "execution_count": 31,
   "metadata": {},
   "outputs": [
    {
     "name": "stdout",
     "output_type": "stream",
     "text": [
      "shit\n",
      "sjdnf\n",
      "dkfj\n",
      "fedfedcf\n",
      "done\n"
     ]
    }
   ],
   "source": [
    "''' \n",
    "A code to prompt users to enter values, and then allow them to enter done \n",
    "when they've finished entering the values. In our example, the user input \n",
    "is the condition that is tested at the top of the while loop.\n",
    "'''\n",
    "\n",
    "user_input = ''\n",
    "\n",
    "while user_input.lower() != 'done':\n",
    "    user_input = input('Enter a new value, or done when done')\n",
    "\n",
    "print(user_input)"
   ]
  },
  {
   "cell_type": "code",
   "execution_count": 36,
   "metadata": {},
   "outputs": [
    {
     "name": "stdout",
     "output_type": "stream",
     "text": [
      "Okay, so I'm testting this hwole shit\n",
      "Tha fuck!\n",
      "Bitch, shut up\n",
      "You a bitch, not me\n",
      "Lmao, I'm so fucking done\n",
      "done\n"
     ]
    }
   ],
   "source": [
    "''' \n",
    "You can use the newly entered string as you would any other string that's \n",
    "captured with input. If you want to add it to a list, you could use code \n",
    "that's similar to the example below:\n",
    "\n",
    "'''\n",
    "\n",
    "# Create the variable for user input\n",
    "user_input = ''\n",
    "# Create the list to store the values\n",
    "inputs = []\n",
    "\n",
    "# The while loop\n",
    "while user_input.lower() != 'done':\n",
    "    # Check if there's a value in user_input\n",
    "    if user_input:\n",
    "        # Store the value in the list\n",
    "        inputs.append(user_input)\n",
    "    # Prompt for a new value\n",
    "    user_input = input('Enter a new value, or done when done')\n",
    "\n",
    "print(\"\\n\".join(inputs))\n",
    "print(user_input)"
   ]
  },
  {
   "cell_type": "code",
   "execution_count": 6,
   "metadata": {},
   "outputs": [
    {
     "name": "stdout",
     "output_type": "stream",
     "text": [
      "[]\n",
      "done\n"
     ]
    }
   ],
   "source": [
    "''' \n",
    "In this exercise, you're creating an application that prompts a user to enter\n",
    "a list of planets. \n",
    "\n",
    "Start by adding two variables, one for the input from the user, named \n",
    "new_planet, and another variable for the list of planets, named planets.\n",
    "\n",
    "Starting with the variables you've just created, create a while loop. The \n",
    "while loop will run while new_planet is not set to done.\n",
    "\n",
    "Inside the loop, check to see whether the new_planet variable contains a value, \n",
    "which should be the name of a planet. This is a quick way to see whether the \n",
    "user has entered a value. If they have, your code will append that value to the\n",
    "planets variable.\n",
    "\n",
    "Complete the while loop by using input to prompt the user to enter a new planet\n",
    "name or done if they're done entering planet names. You'll store the value from\n",
    "input in the new_planet variable.\n",
    "\n",
    "Finally, outside of the while loop, print the list of planets by using print.\n",
    "\n",
    "As you complete this part of the exercise, pay attention to tab levels to ensure\n",
    "code is run at the correct time.\n",
    "'''\n",
    "\n",
    "new_planet = ''\n",
    "planets = []\n",
    "\n",
    "while new_planet != 'done':\n",
    "    new_planet = input('Enter a planet name, or done when done')\n",
    "\n",
    "print(planets)\n",
    "print(new_planet)"
   ]
  },
  {
   "cell_type": "code",
   "execution_count": 7,
   "metadata": {},
   "outputs": [
    {
     "name": "stdout",
     "output_type": "stream",
     "text": [
      "['Krypton', 'Mars', 'Earth', 'Titan', 'Venus']\n"
     ]
    }
   ],
   "source": [
    "# Class solution\n",
    "new_planet = ''\n",
    "planets = []\n",
    "\n",
    "while new_planet.lower() != 'done':\n",
    "    if new_planet:\n",
    "        planets.append(new_planet)\n",
    "    new_planet = input('Enter a new planet, or done if done')\n",
    "\n",
    "print(planets)\n"
   ]
  },
  {
   "attachments": {},
   "cell_type": "markdown",
   "metadata": {},
   "source": [
    "\n",
    "\n",
    "### Note\n",
    "\n",
    "Python has many types that can be looped over. These types are known as iterables.\n"
   ]
  },
  {
   "cell_type": "code",
   "execution_count": 9,
   "metadata": {},
   "outputs": [
    {
     "name": "stdout",
     "output_type": "stream",
     "text": [
      "4\n",
      "3\n",
      "2\n",
      "1\n",
      "0\n",
      "Blast off!! 🚀\n"
     ]
    }
   ],
   "source": [
    "# FOR LOOP\n",
    "# A Python list is iterable, and it can be used with a for loop. \n",
    "# You use a for loop with iterables where you'll loop a known number of times,\n",
    "# once for each item in the iterable.\n",
    "\n",
    "\n",
    "countdown = [4, 3, 2, 1, 0]\n",
    "for number in countdown:\n",
    "    print(number)\n",
    "print(\"Blast off!! 🚀\")"
   ]
  },
  {
   "attachments": {},
   "cell_type": "markdown",
   "metadata": {},
   "source": [
    "The for loop is a statement with five important parts:\n",
    "\n",
    "    The word for, followed by a space.\n",
    "    The variable name you want to create for each value in the sequence (number).\n",
    "    The word in, surrounded by spaces.\n",
    "    The name of the list (countdown, in the preceding example), or iterable that you want to loop over, followed by a colon (:).\n",
    "    The code you want to run for each item in the iterable, separated by nested whitespace.\n",
    "\n",
    "Let's change that code to wait for one second between each number by using the sleep() function:"
   ]
  },
  {
   "cell_type": "code",
   "execution_count": 10,
   "metadata": {},
   "outputs": [
    {
     "name": "stdout",
     "output_type": "stream",
     "text": [
      "4\n",
      "3\n",
      "2\n",
      "1\n",
      "0\n",
      "Blast off!! 🚀\n"
     ]
    }
   ],
   "source": [
    "from time import sleep\n",
    "\n",
    "countdown = [4, 3, 2, 1, 0]\n",
    "\n",
    "for number in countdown:\n",
    "    print(number)\n",
    "    sleep(1)  # Wait 1 second\n",
    "print(\"Blast off!! 🚀\")"
   ]
  },
  {
   "attachments": {},
   "cell_type": "markdown",
   "metadata": {},
   "source": [
    "Exercise - Loop over a list\n",
    "\n",
    "In the previous exercise, you created code to prompt users to enter a list of planet names. In this exercise, you'll complete the application by writing code that displays the planet names one by one.\n",
    "\n",
    "This exercise is broken into a series of steps. For each step you will be presented with the goal for the step, followed by an empty cell. Enter your Python into the cell and run it. The solution for each step will follow each cell.\n",
    "\n",
    "The first cell contains the code from the prior exercise, without the print statement. Run the cell and provide a list of planets."
   ]
  },
  {
   "cell_type": "code",
   "execution_count": 11,
   "metadata": {},
   "outputs": [],
   "source": [
    "# Run this cell and provide a list of planets\n",
    "\n",
    "new_planet = ''\n",
    "planets = []\n",
    "\n",
    "while new_planet.lower() != 'done':\n",
    "    if new_planet:\n",
    "        planets.append(new_planet)\n",
    "    new_planet = input('Enter a new planet or done if done')"
   ]
  },
  {
   "cell_type": "code",
   "execution_count": 13,
   "metadata": {},
   "outputs": [
    {
     "name": "stdout",
     "output_type": "stream",
     "text": [
      "Krypton\n",
      "Titan\n",
      "Venus\n",
      "Mars\n",
      "Ego\n",
      "Ergo\n",
      "Mercury\n",
      "Blast off!! 🚀\n"
     ]
    }
   ],
   "source": [
    "'''\n",
    "\n",
    "The planets variable stores the planet names that a user entered. You'll now\n",
    "use a for loop to display those entries.\n",
    "\n",
    "Create a for loop to iterate over the planets name list. You can use planet as\n",
    "the name of the variable for each planet. Inside the for loop, use print to\n",
    "display each planet name.\n",
    "\n",
    "'''\n",
    "\n",
    "\n",
    "for home in planets:\n",
    "    print(home)\n",
    "    \n",
    "print(\"Blast off!! 🚀\")"
   ]
  },
  {
   "attachments": {},
   "cell_type": "markdown",
   "metadata": {},
   "source": [
    "# Dictionary"
   ]
  },
  {
   "cell_type": "code",
   "execution_count": 24,
   "metadata": {},
   "outputs": [
    {
     "name": "stdout",
     "output_type": "stream",
     "text": [
      "Earth\n"
     ]
    }
   ],
   "source": [
    "planet = {\n",
    "    'name': 'Earth',\n",
    "    'moons': 1\n",
    "}\n",
    "\n",
    "\n",
    "print(planet.get('name'))\n",
    "\n",
    "# Displays Earth\n"
   ]
  },
  {
   "cell_type": "code",
   "execution_count": 26,
   "metadata": {},
   "outputs": [
    {
     "name": "stdout",
     "output_type": "stream",
     "text": [
      "1\n"
     ]
    }
   ],
   "source": [
    "# planet['name'] is identical to using planet.get('name')\n",
    "print(planet['moons'])\n",
    "\n",
    "# Displays Earth\n"
   ]
  },
  {
   "cell_type": "code",
   "execution_count": 27,
   "metadata": {},
   "outputs": [
    {
     "name": "stdout",
     "output_type": "stream",
     "text": [
      "{'name': 'Makemake', 'moons': 1}\n"
     ]
    }
   ],
   "source": [
    "# You can also modify values inside a dictionary object, by using the update\n",
    "# method.\n",
    "\n",
    "planet.update({'name': 'Makemake'})\n",
    "\n",
    "print(planet)\n",
    "\n",
    "# name is now set to Makemake"
   ]
  },
  {
   "cell_type": "code",
   "execution_count": 28,
   "metadata": {},
   "outputs": [
    {
     "name": "stdout",
     "output_type": "stream",
     "text": [
      "{'name': 'Titan', 'moons': 1}\n"
     ]
    }
   ],
   "source": [
    "# Similar to using the square brackets ([ ]) shortcut to read values, you can\n",
    "# use the same shortcut to modify values.\n",
    "\n",
    "planet['name'] = 'Titan'\n",
    "\n",
    "print(planet)\n",
    "\n",
    "# name is now set to Makemake"
   ]
  },
  {
   "cell_type": "code",
   "execution_count": 32,
   "metadata": {},
   "outputs": [],
   "source": [
    "# Using update\n",
    "planet.update({\n",
    "    'name': 'Jupiter',\n",
    "    'moons': 79\n",
    "})\n",
    "\n",
    "# Using square brackets\n",
    "planet['name'] = 'Jupiter'\n",
    "planet['moons'] = 79\n"
   ]
  },
  {
   "cell_type": "code",
   "execution_count": 34,
   "metadata": {},
   "outputs": [
    {
     "name": "stdout",
     "output_type": "stream",
     "text": [
      "{'name': 'Jupiter', 'moons': 79, 'diameter (km)': {'polar': 133709, 'equatorial': 142984}, 'orbital period': 4333}\n"
     ]
    }
   ],
   "source": [
    "planet['orbital period'] = 4333\n",
    "\n",
    "# planet dictionary now contains: {\n",
    "#   name: 'jupiter'\n",
    "#   moons: 79\n",
    "#   orbital period: 4333\n",
    "# }\n",
    "\n",
    "print(planet)"
   ]
  },
  {
   "cell_type": "code",
   "execution_count": 35,
   "metadata": {},
   "outputs": [
    {
     "name": "stdout",
     "output_type": "stream",
     "text": [
      "{'name': 'Jupiter', 'moons': 79, 'diameter (km)': {'polar': 133709, 'equatorial': 142984}}\n"
     ]
    }
   ],
   "source": [
    "# To remove a key, you use pop. pop returns the value and removes the key from\n",
    "# the dictionary. To remove orbital period, you can use the following code:\n",
    "\n",
    "planet.pop('orbital period')\n",
    "\n",
    "# planet dictionary now contains: {\n",
    "#   name: 'jupiter'\n",
    "#   moons: 79\n",
    "# }\n",
    "\n",
    "print(planet)"
   ]
  },
  {
   "attachments": {},
   "cell_type": "markdown",
   "metadata": {},
   "source": [
    "# Complex Datatypes\n"
   ]
  },
  {
   "cell_type": "code",
   "execution_count": 31,
   "metadata": {},
   "outputs": [
    {
     "name": "stdout",
     "output_type": "stream",
     "text": [
      "{'name': 'Titan', 'moons': 1, 'diameter (km)': {'polar': 133709, 'equatorial': 142984}}\n"
     ]
    }
   ],
   "source": [
    "# Add address\n",
    "planet['diameter (km)'] = {\n",
    "    'polar': 133709,\n",
    "    'equatorial': 142984\n",
    "}\n",
    "\n",
    "# planet dictionary now contains: {\n",
    "#   name: 'Jupiter'\n",
    "#   moons: 79\n",
    "#   diameter (km): {\n",
    "#      polar: 133709\n",
    "#      equatorial: 142984\n",
    "#   }\n",
    "# }\n",
    "print(planet)"
   ]
  },
  {
   "cell_type": "code",
   "execution_count": 36,
   "metadata": {},
   "outputs": [
    {
     "name": "stdout",
     "output_type": "stream",
     "text": [
      "Jupiter polar diameter: 133709\n"
     ]
    }
   ],
   "source": [
    "# To retrieve values in a nested dictionary, you chain together square \n",
    "# brackets, or calls to get.\n",
    "\n",
    "print(f'{planet[\"name\"]} polar diameter: {planet[\"diameter (km)\"][\"polar\"]}')\n",
    "\n",
    "# Output: Jupiter polar diameter: 133709"
   ]
  },
  {
   "cell_type": "code",
   "execution_count": 41,
   "metadata": {},
   "outputs": [
    {
     "name": "stdout",
     "output_type": "stream",
     "text": [
      "In my planet, the planet Mars has 2 moon\n"
     ]
    }
   ],
   "source": [
    "''' \n",
    "#Exercise\n",
    "\n",
    "You want to create a program which will store and display information about\n",
    "planets. To start you will use one planet. Create a variable named my_planet. \n",
    "Store the following values as a dictionary:\n",
    "\n",
    "name: Mars\n",
    "moons: 2\n",
    "'''\n",
    "\n",
    "my_planet = {\n",
    "    'name': 'Mars',\n",
    "    'moons': 2\n",
    "    }\n",
    "\n",
    "''' \n",
    "# Display planet data\n",
    "\n",
    "With the variable created, you will now display information. You can retrieve\n",
    "information by either using get or square brackets ([ ]) and the key name. Add\n",
    "the code to display the planet information in the following format:\n",
    "\n",
    "has moon(s)\n",
    "\n",
    "If you were working with Earth, the output would be Earth has 1 moon(s)\n",
    "'''\n",
    "\n",
    "print('In my planet, the planet Mars has {} moon'.format(my_planet['moons']))"
   ]
  },
  {
   "cell_type": "code",
   "execution_count": 43,
   "metadata": {},
   "outputs": [
    {
     "name": "stdout",
     "output_type": "stream",
     "text": [
      "Mars has 2 moon(s)\n"
     ]
    }
   ],
   "source": [
    "# How it was done in the class\n",
    "print(f'{my_planet[\"name\"]} has {my_planet[\"moons\"]} moon(s)')"
   ]
  },
  {
   "cell_type": "code",
   "execution_count": 49,
   "metadata": {},
   "outputs": [
    {
     "name": "stdout",
     "output_type": "stream",
     "text": [
      "Mars has a polar circumference of 6752\n"
     ]
    }
   ],
   "source": [
    "''' \n",
    "# Add circumference information\n",
    "\n",
    "You can update existing keys or create new ones by either using the update\n",
    "method or using square brackets ([ ]). When you're using update, you pass in\n",
    "a new dictionary object with the updated or new values. When using square\n",
    "brackets, you specify the key name and assign a new value.\n",
    "\n",
    "Add a new value to planet with a key of 'circumference (km)'. This new value\n",
    "should store a dictionary with the planet's two circumferences:\n",
    "\n",
    "polar: 6752\n",
    "equatorial: 6792\n",
    "'''\n",
    "my_planet['circumference (km)'] = {\n",
    "    'polar': 6752, \n",
    "    'equatorial': 6792\n",
    "    }\n",
    "\n",
    "print(f'{my_planet[\"name\"]} has a polar circumference of {my_planet[\"circumference (km)\"] [\"polar\"]}')"
   ]
  },
  {
   "attachments": {},
   "cell_type": "markdown",
   "metadata": {},
   "source": [
    "# Retrieve all keys and values\n",
    "\n",
    "The keys() method returns a list object that contains all the keys. You can use this method to iterate through all items in the dictionary.\n",
    "\n",
    "Imagine you have a dictionary, that stores the last three months of rainfall."
   ]
  },
  {
   "cell_type": "code",
   "execution_count": 50,
   "metadata": {},
   "outputs": [],
   "source": [
    "rainfall = {\n",
    "    'october': 3.5,\n",
    "    'november': 4.2,\n",
    "    'december': 2.1\n",
    "}\n"
   ]
  },
  {
   "cell_type": "code",
   "execution_count": 51,
   "metadata": {},
   "outputs": [
    {
     "name": "stdout",
     "output_type": "stream",
     "text": [
      "october: 3.5cm\n",
      "november: 4.2cm\n",
      "december: 2.1cm\n"
     ]
    }
   ],
   "source": [
    "\n",
    "for key in rainfall.keys():\n",
    "    print(f'{key}: {rainfall[key]}cm')\n",
    "\n",
    "# Output:\n",
    "# october: 3.5cm\n",
    "# november: 4.2cm\n",
    "# december: 2.1cm"
   ]
  },
  {
   "cell_type": "code",
   "execution_count": 53,
   "metadata": {},
   "outputs": [],
   "source": [
    "# To determine if a key exist in a python dictionary\n",
    "\n",
    "if 'december' in rainfall:\n",
    "    rainfall['december'] = rainfall['december'] + 1\n",
    "else:\n",
    "    rainfall['december'] = 1\n",
    "# Because december exists, the value will be 3.1"
   ]
  },
  {
   "cell_type": "code",
   "execution_count": 55,
   "metadata": {},
   "outputs": [
    {
     "name": "stdout",
     "output_type": "stream",
     "text": [
      "There was 11.8cm in the last quarter\n"
     ]
    }
   ],
   "source": [
    "# Similar to keys(), values() returns the list of all values in a dictionary\n",
    "# without their respective keys.\n",
    "\n",
    "total_rainfall = 0\n",
    "for value in rainfall.values():\n",
    "    total_rainfall = total_rainfall + value\n",
    "\n",
    "print(f'There was {total_rainfall}cm in the last quarter')"
   ]
  },
  {
   "cell_type": "code",
   "execution_count": 57,
   "metadata": {},
   "outputs": [],
   "source": [
    "# Exercise\n",
    "# Calculating values\n",
    "# Start by creating a variable named planet_moons as a dictionary with the\n",
    "# following key/values:\n",
    "\n",
    "planet_moons = {\n",
    "    'mercury': 0,\n",
    "    'venus': 0,\n",
    "    'earth': 1,\n",
    "    'mars': 2,\n",
    "    'jupiter': 79,\n",
    "    'saturn': 82,\n",
    "    'uranus': 27,\n",
    "    'neptune': 14,\n",
    "    'pluto': 5,\n",
    "    'haumea': 2,\n",
    "    'makemake': 1,\n",
    "    'eris': 1\n",
    "}"
   ]
  },
  {
   "cell_type": "code",
   "execution_count": 59,
   "metadata": {},
   "outputs": [
    {
     "name": "stdout",
     "output_type": "stream",
     "text": [
      "dict_values([0, 0, 1, 2, 79, 82, 27, 14, 5, 2, 1, 1])\n",
      "12\n"
     ]
    }
   ],
   "source": [
    "'''\n",
    "# Obtain a list of moons and number of planets\n",
    "\n",
    "Start by retrieving a list with the number of moons, and store this in a \n",
    "variable named moons. Then obtain the total number of planets and store that\n",
    "value in a variable named total_planets.\n",
    "\n",
    "'''\n",
    "\n",
    "moons = planet_moons.values()\n",
    "total_planets = len(planet_moons.keys())\n",
    "\n",
    "print(moons)\n",
    "print(total_planets)"
   ]
  },
  {
   "cell_type": "code",
   "execution_count": 63,
   "metadata": {},
   "outputs": [
    {
     "name": "stdout",
     "output_type": "stream",
     "text": [
      "Each planet has an average of 17.833333333333332 moons\n"
     ]
    }
   ],
   "source": [
    "''' \n",
    "You will finish this exercise by determining the average number of moons.\n",
    "\n",
    "Start by creating a variable named total_moons; this will be your counter\n",
    "for the total number of moons. Then add a for loop to loop through the list\n",
    "of moons, adding each value to total_moons. Finally, calculate the average\n",
    "by dividing total_moons by total_planets and displaying the value.\n",
    "'''\n",
    "\n",
    "total_moons = 0\n",
    "for moon in moons:\n",
    "    total_moons = total_moons + moon\n",
    "average = total_moons / total_planets\n",
    "\n",
    "print(f'Each planet has an average of {average} moons')"
   ]
  },
  {
   "cell_type": "code",
   "execution_count": 67,
   "metadata": {},
   "outputs": [
    {
     "name": "stdout",
     "output_type": "stream",
     "text": [
      "New York City\n",
      "Mountain View\n",
      "Chicago\n",
      "Los Angeles\n",
      "Done!\n"
     ]
    }
   ],
   "source": [
    "# This code prints a list of cities and capitalize each and prints it\n",
    "\n",
    "cities = ['new york city', 'mountain view', 'chicago', 'los angeles']\n",
    "for city in cities:\n",
    "    print(city.title())\n",
    "print(\"Done!\")\n",
    "\n",
    "# The for keyword indicates that it is a for loop\n",
    "# cities is the iterable and city is the loop's iteration variable"
   ]
  },
  {
   "cell_type": "code",
   "execution_count": 8,
   "metadata": {},
   "outputs": [
    {
     "name": "stdout",
     "output_type": "stream",
     "text": [
      "['New York City', 'Mountain View', 'Chicago', 'Los Angeles']\n"
     ]
    }
   ],
   "source": [
    "cities = ['new york city', 'mountain view', 'chicago', 'los angeles']\n",
    "\n",
    "capitalized_cities = []\n",
    "\n",
    "for city in cities:\n",
    "    capitalized_cities.append(city.title())\n",
    "print(capitalized_cities)"
   ]
  },
  {
   "cell_type": "code",
   "execution_count": 10,
   "metadata": {},
   "outputs": [
    {
     "name": "stdout",
     "output_type": "stream",
     "text": [
      "['New York City']\n",
      "['New York City', 'Mountain View']\n",
      "['New York City', 'Mountain View', 'Chicago']\n",
      "['New York City', 'Mountain View', 'Chicago', 'Los Angeles']\n"
     ]
    }
   ],
   "source": [
    "cities = ['new york city', 'mountain view', 'chicago', 'los angeles']\n",
    "\n",
    "capitalized_cities = []\n",
    "\n",
    "for city in cities:\n",
    "    capitalized_cities.append(city.title())\n",
    "    print(capitalized_cities)\n",
    "\n",
    "# Indentation is important, it must be taken note of at all times"
   ]
  },
  {
   "attachments": {},
   "cell_type": "markdown",
   "metadata": {},
   "source": [
    "A for loop is used to \"iterate\", or do something repeatedly, over an iterable. \n",
    "\n",
    "We can also use for loop to create and modify lists\n",
    "Modifying lists requires the use of the built in function, Range.\n",
    "\n",
    "Range has 3 arguments which must all be integers, (start, stop and step)"
   ]
  },
  {
   "cell_type": "code",
   "execution_count": 84,
   "metadata": {},
   "outputs": [
    {
     "name": "stdout",
     "output_type": "stream",
     "text": [
      "Hello!\n",
      "Hello!\n",
      "Hello!\n"
     ]
    }
   ],
   "source": [
    "for i in range(3):\n",
    "    print(\"Hello!\")"
   ]
  },
  {
   "cell_type": "code",
   "execution_count": 73,
   "metadata": {},
   "outputs": [
    {
     "name": "stdout",
     "output_type": "stream",
     "text": [
      "[1, 3, 5, 7, 9]\n"
     ]
    }
   ],
   "source": [
    "print(list(range(1, 10, 2)))"
   ]
  },
  {
   "cell_type": "code",
   "execution_count": 74,
   "metadata": {},
   "outputs": [
    {
     "name": "stdout",
     "output_type": "stream",
     "text": [
      "0\n",
      "1\n",
      "2\n",
      "3\n",
      "4\n",
      "5\n"
     ]
    }
   ],
   "source": [
    "for number in range(6):\n",
    "    print(number)"
   ]
  },
  {
   "cell_type": "code",
   "execution_count": 83,
   "metadata": {},
   "outputs": [
    {
     "name": "stdout",
     "output_type": "stream",
     "text": [
      "['New York City', 'Mountain View', 'Chicago', 'Los Angeles']\n"
     ]
    }
   ],
   "source": [
    "# Using the range function to generate the indices of each value in the \n",
    "# cities list \n",
    "\n",
    "cities = [\n",
    "    'new york city', 'mountain view', 'chicago', 'los angeles'\n",
    "    ]\n",
    "for index in range(len(cities)):\n",
    "    cities[index] = cities[index].title()\n",
    "print(cities)\n",
    "   "
   ]
  },
  {
   "cell_type": "code",
   "execution_count": 11,
   "metadata": {},
   "outputs": [
    {
     "name": "stdout",
     "output_type": "stream",
     "text": [
      "the\n",
      "quick\n",
      "brown\n",
      "fox\n",
      "jumped\n",
      "over\n",
      "the\n",
      "lazy\n",
      "dog\n"
     ]
    }
   ],
   "source": [
    "'''\n",
    "# Practice: Quick Brown Fox\n",
    "\n",
    "Use a for loop to take a list and print each element of the list in its own\n",
    "line. \n",
    "'''\n",
    "sentence = [\"the\", \"quick\", \"brown\", \"fox\", \"jumped\", \"over\", \"the\", \"lazy\", \"dog\"]\n",
    "\n",
    "for poem in sentence:\n",
    "    print(poem)"
   ]
  },
  {
   "cell_type": "code",
   "execution_count": 15,
   "metadata": {},
   "outputs": [
    {
     "name": "stdout",
     "output_type": "stream",
     "text": [
      "5\n",
      "10\n",
      "15\n",
      "20\n",
      "25\n",
      "30\n"
     ]
    }
   ],
   "source": [
    "''' \n",
    "# Practice: Multiples of 5\n",
    "\n",
    "Write a for loop below that will print out every whole number that is a\n",
    "multiple of 5 and less than or equal to 30.\n",
    "'''\n",
    "\n",
    "for i in range(5, 31, 5):\n",
    "    print(i)"
   ]
  },
  {
   "cell_type": "code",
   "execution_count": 3,
   "metadata": {},
   "outputs": [
    {
     "name": "stdout",
     "output_type": "stream",
     "text": [
      "['joey_tribbiani', 'monica_geller', 'chandler_bing', 'phoebe_buffay']\n"
     ]
    },
    {
     "data": {
      "text/plain": [
       "' \\nIn this for loop, I first used the .lower() method to make all characters in\\nthe name lowercase and then I used the .replace() method to replace the\\nspaces with underscores. I then append the resulting username to the\\nusernames list. And finally I am printing the final usernames list.\\n\\n'"
      ]
     },
     "execution_count": 3,
     "metadata": {},
     "output_type": "execute_result"
    }
   ],
   "source": [
    "''' \n",
    "Quiz: Create Usernames\n",
    "\n",
    "Write a for loop that iterates over the names list to create a usernames list.\n",
    "To create a username for each name, make everything lowercase and replace\n",
    "spaces with underscores. Running your for loop over the list:\n",
    "\n",
    "names = [\"Joey Tribbiani\", \"Monica Geller\", \"Chandler Bing\", \"Phoebe Buffay\"]\n",
    "\n",
    "should print out the usernames list:\n",
    "\n",
    "[\"joey_tribbiani\", \"monica_geller\", \"chandler_bing\", \"phoebe_buffay\"]\n",
    "\n",
    "HINT: Use the .replace() method to replace the spaces with underscores.\n",
    "'''\n",
    "\n",
    "names = [\"Joey Tribbiani\", \"Monica Geller\", \"Chandler Bing\", \"Phoebe Buffay\"]\n",
    "usernames = []\n",
    "for name in names:\n",
    "    username = name.lower().replace(\" \", \"_\")\n",
    "    usernames.append(username)\n",
    "print(usernames)\n",
    "\n",
    "''' \n",
    "In this for loop, I first used the .lower() method to make all characters in\n",
    "the name lowercase and then I used the .replace() method to replace the\n",
    "spaces with underscores. I then append the resulting username to the\n",
    "usernames list. And finally I am printing the final usernames list.\n",
    "\n",
    "'''"
   ]
  },
  {
   "cell_type": "code",
   "execution_count": 12,
   "metadata": {},
   "outputs": [
    {
     "name": "stdout",
     "output_type": "stream",
     "text": [
      "['joey_tribbiani', 'monica_geller', 'chandler_bing', 'phoebe_buffay']\n"
     ]
    }
   ],
   "source": [
    "''' \n",
    "Write a for loop that uses range() to iterate over the positions in usernames\n",
    "to modify the list. Like you did in the previous quiz, change each name to be\n",
    "lowercase and replace spaces with underscores. After running your loop, this\n",
    "list\n",
    "\n",
    "usernames = [\n",
    "    \"Joey Tribbiani\", \"Monica Geller\", \"Chandler Bing\", \"Phoebe Buffay\"\n",
    "    ]\n",
    "\n",
    "should change to this:\n",
    "\n",
    "usernames = [\n",
    "    \"joey_tribbiani\", \"monica_geller\", \"chandler_bing\", \"phoebe_buffay\"\n",
    "    ]\n",
    "'''\n",
    "usernames = [\n",
    "    \"Joey Tribbiani\", \"Monica Geller\", \"Chandler Bing\", \"Phoebe Buffay\"\n",
    "    ]\n",
    "\n",
    "for i in range(len(usernames)):\n",
    "    usernames[i] = usernames[i].lower().replace(\" \", \"_\")\n",
    "\n",
    "print(usernames)\n"
   ]
  },
  {
   "cell_type": "code",
   "execution_count": 1,
   "metadata": {},
   "outputs": [
    {
     "name": "stdout",
     "output_type": "stream",
     "text": [
      "['joey_tribbiani', 'monica_geller', 'chandler_bing', 'phoebe_buffay']\n"
     ]
    }
   ],
   "source": [
    "# Another method\n",
    "\n",
    "usernames = [\n",
    "    \"Joey Tribbiani\", \"Monica Geller\", \"Chandler Bing\", \"Phoebe Buffay\"\n",
    "    ]\n",
    "usernames = [name.lower().replace(\" \", \"_\") for name in usernames]\n",
    "print(usernames)\n"
   ]
  },
  {
   "cell_type": "code",
   "execution_count": 4,
   "metadata": {},
   "outputs": [
    {
     "name": "stdout",
     "output_type": "stream",
     "text": [
      "['Joey Tribbiani', 'Monica Geller', 'Chandler Bing', 'Phoebe Buffay']\n"
     ]
    },
    {
     "data": {
      "text/plain": [
       "' \\nThe printed output for the names list will look exactly like it did in the \\nfirst line. This is because during each iteration, the name variable is set\\nto a string taken from the list. Then the assignment statement creates a new\\nstring (name.lower().replace(\" \", \"_\")) and changes the name variable to that\\nstring. It doesn\\'t modify the contents of the names list at all. To modify\\nthe list you must operate on the list itself, using range, as you saw earlier.\\n'"
      ]
     },
     "execution_count": 4,
     "metadata": {},
     "output_type": "execute_result"
    }
   ],
   "source": [
    "# What would the code below do?\n",
    "\n",
    "names = [\"Joey Tribbiani\", \"Monica Geller\", \"Chandler Bing\", \"Phoebe Buffay\"]\n",
    "\n",
    "for name in names:\n",
    "    name = name.lower().replace(\" \", \"_\")\n",
    "\n",
    "print(names)\n",
    "\n",
    "''' \n",
    "The printed output for the names list will look exactly like it did in the \n",
    "first line. This is because during each iteration, the name variable is set\n",
    "to a string taken from the list. Then the assignment statement creates a new\n",
    "string (name.lower().replace(\" \", \"_\")) and changes the name variable to that\n",
    "string. It doesn't modify the contents of the names list at all. To modify\n",
    "the list you must operate on the list itself, using range, as you saw earlier.\n",
    "'''"
   ]
  },
  {
   "cell_type": "code",
   "execution_count": 5,
   "metadata": {},
   "outputs": [
    {
     "name": "stdout",
     "output_type": "stream",
     "text": [
      "2\n"
     ]
    }
   ],
   "source": [
    "''' \n",
    "Write a for loop that iterates over a list of strings, tokens, and counts \n",
    "how many of them are XML tags. XML is a data language similar to HTML. \n",
    "You can tell if a string is an XML tag if it begins with a left angle \n",
    "bracket \"<\" and ends with a right angle bracket \">\". Keep track of the \n",
    "number of tags using the variable count.\n",
    "\n",
    "You can assume that the list of strings will not contain empty strings\n",
    "'''\n",
    "\n",
    "tokens = ['<greeting>', 'Hello World!', '</greeting>']\n",
    "count = 0\n",
    "\n",
    "\n",
    "# Answer Below\n",
    "for token in tokens:\n",
    "    if token.startswith(\"<\") and token.endswith(\">\"):\n",
    "        count += 1\n",
    "\n",
    "print(count)"
   ]
  },
  {
   "cell_type": "code",
   "execution_count": 6,
   "metadata": {},
   "outputs": [
    {
     "name": "stdout",
     "output_type": "stream",
     "text": [
      "<ul>\n",
      "<li>first string</li>\n",
      "<li>second string</li>\n",
      "</ul>\n"
     ]
    }
   ],
   "source": [
    "''' \n",
    "Quiz: Create an HTML List\n",
    "\n",
    "Write some code, including a for loop, that iterates over a list of strings\n",
    "and creates a single string, html_str, which is an HTML list. For example,\n",
    "if the list is items = ['first string', 'second string'], printing html_str\n",
    "should output:\n",
    "\n",
    "<ul>\n",
    "<li>first string</li>\n",
    "<li>second string</li>\n",
    "</ul>\n",
    "\n",
    "That is, the string's first line should be the opening tag <ul>. Following\n",
    "that is one line per element in the source list, surrounded by <li> and \n",
    "</li> tags. The final line of the string should be the closing tag </ul>.\n",
    "\n",
    "\n",
    "'''\n",
    "\n",
    "items = ['first string', 'second string']\n",
    "html_str = \"<ul>\\n\"  \n",
    "# The \"\\n\" here is the end-of-line char, causing chars after this in \n",
    "# html_str to be on next line\n",
    "\n",
    "\n",
    "# Answer Below\n",
    "for item in items:\n",
    "    html_str += \"<li>\" + item + \"</li>\\n\"\n",
    "html_str += \"</ul>\"\n",
    "\n",
    "print(html_str)"
   ]
  },
  {
   "attachments": {},
   "cell_type": "markdown",
   "metadata": {},
   "source": [
    "# Building Dictionary"
   ]
  },
  {
   "cell_type": "code",
   "execution_count": 8,
   "metadata": {},
   "outputs": [
    {
     "name": "stdout",
     "output_type": "stream",
     "text": [
      "{'great': 2, 'expectations': 1, 'the': 2, 'adventures': 2, 'of': 2, 'sherlock': 1, 'holmes': 1, 'gasby': 1, 'hamlet': 1, 'huckleberry': 1, 'fin': 1}\n"
     ]
    }
   ],
   "source": [
    "# Method 1: Using a for loop to create a set of counter dictionaries\n",
    "\n",
    "# Let's start with a list containing the words in a series of book titles:\n",
    "\n",
    "book_title =  ['great', 'expectations','the', 'adventures', 'of', 'sherlock',\n",
    "               'holmes','the','great','gasby','hamlet','adventures','of',\n",
    "               'huckleberry','fin']\n",
    "\n",
    "#Step 1: Create an empty dictionary.\n",
    "word_counter = {}\n",
    "\n",
    "# Iterate through each element in the list. If an element is already included\n",
    "# in the dictionary, add 1 to its value. If not, add the element to the \n",
    "# dictionary and set its value to 1.\n",
    "for word in book_title:\n",
    "    if word not in word_counter:\n",
    "        word_counter[word] = 1\n",
    "    else:\n",
    "        word_counter[word] += 1\n",
    "\n",
    "print(word_counter)"
   ]
  },
  {
   "cell_type": "code",
   "execution_count": 9,
   "metadata": {},
   "outputs": [
    {
     "name": "stdout",
     "output_type": "stream",
     "text": [
      "{'great': 2, 'expectations': 1, 'the': 2, 'adventures': 2, 'of': 2, 'sherlock': 1, 'holmes': 1, 'gasby': 1, 'hamlet': 1, 'huckleberry': 1, 'fin': 1}\n"
     ]
    }
   ],
   "source": [
    "# Method 2\n",
    "# Using the get method\n",
    "# We can use get with a default value of 0 to simplify the code from the \n",
    "# first method above\n",
    "\n",
    "word_counter = {}\n",
    "\n",
    "for word in book_title:\n",
    "    word_counter[word] = word_counter.get(word, 0) + 1\n",
    "print(word_counter)"
   ]
  },
  {
   "attachments": {},
   "cell_type": "markdown",
   "metadata": {},
   "source": [
    "# Iterating Through Dictionaries with For Loops\n",
    "\n",
    "When you iterate through a dictionary using a for loop, doing it the normal way, like\n",
    "\n",
    "for n in some_dict , will only give you access to the keys in the dictionary - which is what you'd want in some situations. In other cases, you'd want to iterate through both the keys and values in the dictionary. Let's see how this is done in an example. Consider this dictionary that uses names of actors as keys and their characters as values."
   ]
  },
  {
   "cell_type": "code",
   "execution_count": 12,
   "metadata": {},
   "outputs": [
    {
     "name": "stdout",
     "output_type": "stream",
     "text": [
      "Jerry Seinfeld\n",
      "Julia Louis-Dreyfus\n",
      "Jason Alexander\n",
      "Michael Richards\n"
     ]
    }
   ],
   "source": [
    "cast = {\n",
    "           \"Jerry Seinfeld\": \"Jerry Seinfeld\",\n",
    "           \"Julia Louis-Dreyfus\": \"Elaine Benes\",\n",
    "           \"Jason Alexander\": \"George Costanza\",\n",
    "           \"Michael Richards\": \"Cosmo Kramer\"\n",
    "       }\n",
    "\n",
    "# Iterating through in d usual way wit a for loop would give u just d keys\n",
    "\n",
    "for key in cast:\n",
    "\n",
    "    print(key)"
   ]
  },
  {
   "cell_type": "code",
   "execution_count": 13,
   "metadata": {},
   "outputs": [
    {
     "name": "stdout",
     "output_type": "stream",
     "text": [
      "Actor: Jerry Seinfeld    Role: Jerry Seinfeld\n",
      "Actor: Julia Louis-Dreyfus    Role: Elaine Benes\n",
      "Actor: Jason Alexander    Role: George Costanza\n",
      "Actor: Michael Richards    Role: Cosmo Kramer\n"
     ]
    }
   ],
   "source": [
    "# If u wish to iterate through both keys and values, you can use d built-in\n",
    "# method items\n",
    "\n",
    "# items is an awesome method that returns tuples of key, value pairs, \n",
    "# which you can use to iterate over dictionaries in for loops.\n",
    "\n",
    "for key, value in cast.items():\n",
    "    print(\"Actor: {}    Role: {}\".format(key, value))"
   ]
  },
  {
   "cell_type": "code",
   "execution_count": 14,
   "metadata": {},
   "outputs": [
    {
     "name": "stdout",
     "output_type": "stream",
     "text": [
      "Iterating through keys:\n",
      "Jerry Seinfeld\n",
      "Julia Louis-Dreyfus\n",
      "Jason Alexander\n",
      "Michael Richards\n",
      "\n",
      "Iterating through keys and values:\n",
      "Actor: Jerry Seinfeld    Role: Jerry Seinfeld\n",
      "Actor: Julia Louis-Dreyfus    Role: Elaine Benes\n",
      "Actor: Jason Alexander    Role: George Costanza\n",
      "Actor: Michael Richards    Role: Cosmo Kramer\n"
     ]
    }
   ],
   "source": [
    "cast = {\n",
    "           \"Jerry Seinfeld\": \"Jerry Seinfeld\",\n",
    "           \"Julia Louis-Dreyfus\": \"Elaine Benes\",\n",
    "           \"Jason Alexander\": \"George Costanza\",\n",
    "           \"Michael Richards\": \"Cosmo Kramer\"\n",
    "       }\n",
    "\n",
    "print(\"Iterating through keys:\")\n",
    "for key in cast:\n",
    "    print(key)\n",
    "\n",
    "print(\"\\nIterating through keys and values:\")\n",
    "for key, value in cast.items():\n",
    "    print(\"Actor: {}    Role: {}\".format(key, value))"
   ]
  },
  {
   "cell_type": "code",
   "execution_count": 15,
   "metadata": {},
   "outputs": [
    {
     "name": "stdout",
     "output_type": "stream",
     "text": [
      "Number of fruits in basket:  23\n"
     ]
    }
   ],
   "source": [
    "# You would like to count the number of fruits in your basket. \n",
    "# In order to do this, you have the following dictionary and list of\n",
    "# fruits.  Use the dictionary and list to count the total number\n",
    "# of fruits, but you do not want to count the other items in your basket.\n",
    "\n",
    "result = 0\n",
    "basket_items = {'apples': 4, 'oranges': 19, 'kites': 3, 'sandwiches': 8}\n",
    "fruits = ['apples', 'oranges', 'pears', 'peaches', 'grapes', 'bananas']\n",
    "\n",
    "#Iterate through the dictionary\n",
    "#if the key is in the list of fruits, add the value (number of fruits) to\n",
    "#result\n",
    "\n",
    "for item in basket_items:\n",
    "    if item in fruits:\n",
    "        result += basket_items[item]\n",
    "print(\"Number of fruits in basket: \", result)"
   ]
  },
  {
   "cell_type": "code",
   "execution_count": 1,
   "metadata": {},
   "outputs": [
    {
     "name": "stdout",
     "output_type": "stream",
     "text": [
      "28\n",
      "9\n",
      "4\n"
     ]
    }
   ],
   "source": [
    "#Example 1\n",
    "\n",
    "result = 0\n",
    "basket_items = {'pears': 5, 'grapes': 19, 'kites': 3, 'sandwiches': 8, 'bananas': 4}\n",
    "fruits = ['apples', 'oranges', 'pears', 'peaches', 'grapes', 'bananas']\n",
    "\n",
    "# Your previous solution here\n",
    "for item in basket_items:\n",
    "    if item in fruits:\n",
    "        result += basket_items[item]\n",
    "\n",
    "print(result)\n",
    "\n",
    "#Example 2\n",
    "\n",
    "result = 0\n",
    "basket_items = {'peaches': 5, 'lettuce': 2, 'kites': 3, 'sandwiches': 8, 'pears': 4}\n",
    "fruits = ['apples', 'oranges', 'pears', 'peaches', 'grapes', 'bananas']\n",
    "\n",
    "# Your previous solution here\n",
    "for item in basket_items:\n",
    "    if item in fruits:\n",
    "        result += basket_items[item]\n",
    "\n",
    "print(result)\n",
    "\n",
    "\n",
    "#Example 3\n",
    "\n",
    "result = 0\n",
    "basket_items = {'lettuce': 2, 'kites': 3, 'sandwiches': 8, 'pears': 4, 'bears': 10}\n",
    "fruits = ['apples', 'oranges', 'pears', 'peaches', 'grapes', 'bananas']\n",
    "\n",
    "# Your previous solution here\n",
    "for item in basket_items:\n",
    "    if item in fruits:\n",
    "        result += basket_items[item]\n",
    "\n",
    "print(result)"
   ]
  },
  {
   "cell_type": "code",
   "execution_count": 11,
   "metadata": {},
   "outputs": [
    {
     "name": "stdout",
     "output_type": "stream",
     "text": [
      "The number of fruits is 23.  There are 11 objects that are not fruits.\n"
     ]
    }
   ],
   "source": [
    "# You would like to count the number of fruits in your basket. \n",
    "# In order to do this, you have the following dictionary and list of\n",
    "# fruits.  Use the dictionary and list to count the total number\n",
    "# of fruits and not_fruits.\n",
    "\n",
    "fruit_count, not_fruit_count = 0, 0\n",
    "basket_items = {'apples': 4, 'oranges': 19, 'kites': 3, 'sandwiches': 8}\n",
    "fruits = ['apples', 'oranges', 'pears', 'peaches', 'grapes', 'bananas']\n",
    "\n",
    "#Iterate through the dictionary\n",
    "for item in basket_items:\n",
    "    if item in fruits:\n",
    "        fruit_count += basket_items[item]\n",
    "    else:\n",
    "        not_fruit_count += basket_items[item]\n",
    "\n",
    "#if the key is in the list of fruits, add to fruit_count.\n",
    "\n",
    "#if the key is not in the list, then add to the not_fruit_count\n",
    "\n",
    "\n",
    "print(\"The number of fruits is {}.  There are {} objects that are not fruits.\".format(fruit_count, not_fruit_count))\n"
   ]
  },
  {
   "attachments": {},
   "cell_type": "markdown",
   "metadata": {},
   "source": [
    "# .pop() is the inverse of .append()"
   ]
  },
  {
   "attachments": {},
   "cell_type": "markdown",
   "metadata": {},
   "source": [
    "---------------------------------------------------------------------"
   ]
  },
  {
   "attachments": {},
   "cell_type": "markdown",
   "metadata": {},
   "source": [
    "# While Loops"
   ]
  },
  {
   "cell_type": "code",
   "execution_count": 14,
   "metadata": {},
   "outputs": [
    {
     "name": "stdout",
     "output_type": "stream",
     "text": [
      "[10, 8]\n"
     ]
    }
   ],
   "source": [
    "card_deck = [4, 11, 8, 5, 13, 2, 8, 10]\n",
    "hand = []\n",
    "\n",
    "# adds the last element of the card_deck list to the hand list\n",
    "# until the values in hand add up to 17 or more\n",
    "while sum(hand)  < 17:\n",
    "    hand.append(card_deck.pop())\n",
    "\n",
    "print(hand)"
   ]
  },
  {
   "cell_type": "code",
   "execution_count": 15,
   "metadata": {},
   "outputs": [
    {
     "name": "stdout",
     "output_type": "stream",
     "text": [
      "720\n"
     ]
    }
   ],
   "source": [
    "# Find the factorial of a number using a while loop.\n",
    "# If number is 6, your code should compute and print the product, 720.\n",
    "\n",
    "# number to find the factorial of\n",
    "number = 6   \n",
    "\n",
    "# start with our product equal to one\n",
    "product = 1\n",
    "\n",
    "# track the current number being multiplied\n",
    "current = 1\n",
    "\n",
    "# write your while loop here\n",
    "while current <= number:\n",
    "    # multiply the product so far by the current number\n",
    "    product *= current\n",
    "    \n",
    "    # increment current with each iteration until it reaches number\n",
    "    current += 1\n",
    "\n",
    "# print the factorial of number\n",
    "print(product)"
   ]
  },
  {
   "cell_type": "code",
   "execution_count": 16,
   "metadata": {},
   "outputs": [
    {
     "name": "stdout",
     "output_type": "stream",
     "text": [
      "720\n"
     ]
    }
   ],
   "source": [
    "# Use a for loop to find the factorial!\n",
    "\n",
    "# number we'll find the factorial of\n",
    "number = 6\n",
    "# start with our product equal to one\n",
    "product = 1\n",
    "\n",
    "# calculate factorial of number with a for loop\n",
    "for num in range(2, number + 1):\n",
    "    product *= num\n",
    "\n",
    "# print the factorial of number\n",
    "print(product)"
   ]
  },
  {
   "cell_type": "code",
   "execution_count": 2,
   "metadata": {},
   "outputs": [
    {
     "name": "stdout",
     "output_type": "stream",
     "text": [
      "45\n"
     ]
    }
   ],
   "source": [
    "''' \n",
    "Suppose you want to count from some number start_num by another number\n",
    "count_by until you hit a final number end_num. Use break_num as the variable\n",
    "that you'll change each time through the loop. For simplicity, assume that\n",
    "end_num is always larger than start_num and count_by is always positive. \n",
    "'''\n",
    "start_num = 15 #provide some start number\n",
    "end_num = 45 #provide some end number that you stop when you hit\n",
    "count_by = 5 #provide some number to count by \n",
    "\n",
    "# write a while loop that uses break_num as the ongoing number to \n",
    "#   check against end_num\n",
    "break_num = start_num\n",
    "while break_num < end_num:\n",
    "    break_num += start_num\n",
    "\n",
    "print(break_num)\n",
    "\n",
    "# This code sets break_num to the value of start_num initially, and then\n",
    "# repeatedly increments break_num by count_by in each iteration of the\n",
    "# while loop. The loop continues until break_num is no longer less \n",
    "# than end_num."
   ]
  },
  {
   "cell_type": "code",
   "execution_count": 3,
   "metadata": {},
   "outputs": [
    {
     "name": "stdout",
     "output_type": "stream",
     "text": [
      "Oops! Looks like your start value is greater than the end value. Please try again\n"
     ]
    }
   ],
   "source": [
    "# Now in addition, address what would happen if someone gives a start_num \n",
    "# that is greater than end_num. If this is the case, set result to \"Oops! \n",
    "#Looks like your start value is greater than the end value. Please try \n",
    "#again.\" Otherwise, set result to the value of break_num.\n",
    "\n",
    "start_num = 55\n",
    "end_num = 45\n",
    "count_by = 5\n",
    "\n",
    "break_num = start_num\n",
    "while break_num < end_num:\n",
    "    break_num += count_by\n",
    "\n",
    "if start_num > end_num:\n",
    "    print('Oops! Looks like your start value is greater than the end value. Please try again')\n",
    "else:\n",
    "    print(break_num)"
   ]
  },
  {
   "cell_type": "code",
   "execution_count": 5,
   "metadata": {},
   "outputs": [
    {
     "name": "stdout",
     "output_type": "stream",
     "text": [
      "Oops! Looks like your start value is greater than the end value. Please try again.\n"
     ]
    }
   ],
   "source": [
    "# Another method to solve the above\n",
    "\n",
    "start_num = 55\n",
    "end_num = 45\n",
    "count_by = 5\n",
    "\n",
    "if start_num > end_num:\n",
    "    result = \"Oops! Looks like your start value is greater than the end value. Please try again.\"\n",
    "\n",
    "else:\n",
    "    break_num = start_num\n",
    "    while break_num < end_num:\n",
    "        break_num += count_by\n",
    "\n",
    "    result = break_num\n",
    "\n",
    "print(result)"
   ]
  },
  {
   "cell_type": "code",
   "execution_count": 8,
   "metadata": {},
   "outputs": [
    {
     "name": "stdout",
     "output_type": "stream",
     "text": [
      "36\n"
     ]
    }
   ],
   "source": [
    "''' \n",
    "Write a while loop that finds the largest square number less than an integer\n",
    "limit and stores it in a variable nearest_square. A square number is the\n",
    "product of an integer multiplied by itself, for example 36 is a square number\n",
    "because it equals 6*6.\n",
    "\n",
    "For example, if limit is 40, your code should set the nearest_square to 36.\n",
    "'''\n",
    "\n",
    "limit = 40\n",
    "nearest_square = 0\n",
    "i = 1\n",
    "while (i*i) < limit:\n",
    "    nearest_square = i*i\n",
    "    i += 1\n",
    "\n",
    "print(nearest_square)\n",
    "\n",
    "# The loop initializes the nearest_square variable to 0 and the i variable\n",
    "# to 1. It then repeatedly increments i and updates nearest_square with i\n",
    "# multiplied by itself as long as i multiplied by itself is less than limit.\n",
    "# After the loop terminates, nearest_square will hold the largest square\n",
    "# number less than limit.\n"
   ]
  },
  {
   "cell_type": "code",
   "execution_count": 9,
   "metadata": {},
   "outputs": [
    {
     "name": "stdout",
     "output_type": "stream",
     "text": [
      "Sum of first 5 odd numbers: 993\n"
     ]
    }
   ],
   "source": [
    "''' \n",
    "You need to write a loop that takes the numbers in a given list named\n",
    "num_list:\n",
    "num_list = [\n",
    "    422, 136, 524, 85, 96, 719, 85, 92, 10, 17, 312, 542, 87, 23, 86, \n",
    "    191, 116, 35, 173, 45, 149, 59, 84, 69, 113, 166\n",
    "    ]\n",
    "\n",
    "Your code should add up the odd numbers in the list, but only up to the\n",
    "first 5 odd numbers together. If there are more than 5 odd numbers, you\n",
    "should stop at the fifth. If there are fewer than 5 odd numbers, add all\n",
    "of the odd numbers.\n",
    "\n",
    "Would you use a while or a for loop to write this code? \n",
    "'''\n",
    "\n",
    "# A for loop would be better suited for this task, as we have a set list \n",
    "# of numbers to iterate over and we know the exact number of iterations \n",
    "# we need to perform. With a for loop, we can easily keep track of the \n",
    "# number of odd numbers we have processed and stop when we reach 5 or \n",
    "# when we have processed all of the odd numbers in the list, whichever \n",
    "# comes first.\n",
    "\n",
    "num_list = [\n",
    "    422, 136, 524, 85, 96, 719, 85, 92, 10, 17, 312, 542, 87, 23, 86, 191, \n",
    "    116, 35, 173, 45, 149, 59, 84, 69, 113, 166\n",
    "    ]\n",
    "\n",
    "odd_sum = 0\n",
    "odd_count = 0\n",
    "\n",
    "for num in num_list:\n",
    "    if num % 2 != 0:\n",
    "        odd_sum += num\n",
    "        odd_count += 1\n",
    "        if odd_count == 5:\n",
    "            break\n",
    "\n",
    "print(\"Sum of first 5 odd numbers:\", odd_sum)\n",
    "\n"
   ]
  },
  {
   "cell_type": "code",
   "execution_count": 10,
   "metadata": {},
   "outputs": [
    {
     "name": "stdout",
     "output_type": "stream",
     "text": [
      "the numbers of odd numbers added are: 5\n",
      "The sum of the odd numbers added is: 993\n"
     ]
    }
   ],
   "source": [
    "\n",
    "# Using while loop\n",
    "\n",
    "num_list = [\n",
    "    422, 136, 524, 85, 96, 719, 85, 92, 10, 17, 312, 542, 87, 23, 86, 191, \n",
    "    116, 35, 173, 45, 149, 59, 84, 69, 113, 166\n",
    "    ]\n",
    "\n",
    "count_odd = 0\n",
    "list_sum = 0\n",
    "i = 0\n",
    "len_num_list = len(num_list)\n",
    "\n",
    "while (count_odd < 5) and (i < len_num_list):\n",
    "    if num_list[i] % 2 != 0:\n",
    "        list_sum += num_list[i]\n",
    "        count_odd += 1\n",
    "    i += 1\n",
    "    \n",
    "print (\"the numbers of odd numbers added are: {}\".format(count_odd))\n",
    "print (\"The sum of the odd numbers added is: {}\".format(list_sum))\n"
   ]
  },
  {
   "attachments": {},
   "cell_type": "markdown",
   "metadata": {},
   "source": [
    "# Break, Continue\n",
    "\n",
    "Sometimes we need more control over when a loop should end, or skip an iteration. In these cases, we use the break and continue keywords, which can be used in both #for and #while loops.\n",
    "\n",
    "    break terminates a loop\n",
    "    continue skips one iteration of a loop\n",
    "    \n"
   ]
  },
  {
   "cell_type": "code",
   "execution_count": 11,
   "metadata": {},
   "outputs": [
    {
     "name": "stdout",
     "output_type": "stream",
     "text": [
      "METHOD 1\n",
      "current weight: 0\n",
      "  adding bananas (15)\n",
      "current weight: 15\n",
      "  adding mattresses (24)\n",
      "current weight: 39\n",
      "  adding dog kennels (42)\n",
      "current weight: 81\n",
      "  adding machine (120)\n",
      "current weight: 201\n",
      "  breaking loop now!\n",
      "\n",
      "Final Weight: 201\n",
      "Final Items: ['bananas', 'mattresses', 'dog kennels', 'machine']\n",
      "\n",
      "METHOD 2\n",
      "current weight: 0\n",
      "  adding bananas (15)\n",
      "current weight: 15\n",
      "  adding mattresses (24)\n",
      "current weight: 39\n",
      "  adding dog kennels (42)\n",
      "current weight: 81\n",
      "  skipping machine (120)\n",
      "current weight: 81\n",
      "  adding cheeses (5)\n",
      "\n",
      "Final Weight: 86\n",
      "Final Items: ['bananas', 'mattresses', 'dog kennels', 'cheeses']\n"
     ]
    }
   ],
   "source": [
    "# Below, you'll find two methods to solve a cargo loading program. \n",
    "# The first one breaks from the loop when the weight reaches the limit. \n",
    "# However, we found several problems with this. \n",
    "# The second method addresses these issues by modifying the conditional \n",
    "# statement and adding continue. \n",
    "# Run the code below to see the results and feel free to experiment!\n",
    "\n",
    "\n",
    "manifest = [\n",
    "    (\"bananas\", 15), (\"mattresses\", 24), (\"dog kennels\", 42), (\"machine\", 120), \n",
    "    (\"cheeses\", 5)\n",
    "    ]\n",
    "\n",
    "# the code breaks the loop when weight exceeds or reaches the limit\n",
    "print(\"METHOD 1\")\n",
    "weight = 0\n",
    "items = []\n",
    "for cargo_name, cargo_weight in manifest:\n",
    "    print(\"current weight: {}\".format(weight))\n",
    "    if weight >= 100:\n",
    "        print(\"  breaking loop now!\")\n",
    "        break\n",
    "    else:\n",
    "        print(\"  adding {} ({})\".format(cargo_name, cargo_weight))\n",
    "        items.append(cargo_name)\n",
    "        weight += cargo_weight\n",
    "\n",
    "print(\"\\nFinal Weight: {}\".format(weight))\n",
    "print(\"Final Items: {}\".format(items))\n",
    "\n",
    "# skips an iteration when adding an item would exceed the limit\n",
    "# breaks the loop if weight is exactly the value of the limit\n",
    "print(\"\\nMETHOD 2\")\n",
    "weight = 0\n",
    "items = []\n",
    "for cargo_name, cargo_weight in manifest:\n",
    "    print(\"current weight: {}\".format(weight))\n",
    "    if weight >= 100:\n",
    "        print(\"  breaking from the loop now!\")\n",
    "        break\n",
    "    elif weight + cargo_weight > 100:\n",
    "        print(\"  skipping {} ({})\".format(cargo_name, cargo_weight))\n",
    "        continue\n",
    "    else:\n",
    "        print(\"  adding {} ({})\".format(cargo_name, cargo_weight))\n",
    "        items.append(cargo_name)\n",
    "        weight += cargo_weight\n",
    "\n",
    "print(\"\\nFinal Weight: {}\".format(weight))\n",
    "print(\"Final Items: {}\".format(items))"
   ]
  },
  {
   "cell_type": "code",
   "execution_count": 12,
   "metadata": {},
   "outputs": [
    {
     "name": "stdout",
     "output_type": "stream",
     "text": [
      "Local Bear Eaten by Man Legislature Announces New Laws Peasant Discovers Violence Inherent in System Cat Rescues Fireman Stuck in Tree Brave\n"
     ]
    }
   ],
   "source": [
    "''' \n",
    "Write a loop with a break statement to create a string, news_ticker, that \n",
    "is exactly 140 characters long. You should create the news ticker by adding\n",
    "headlines from the headlines list, inserting a space in between each \n",
    "headline. If necessary, truncate the last headline in the middle so that \n",
    "news_ticker is exactly 140 characters long.\n",
    "\n",
    "Remember that break works in both for and while loops. Use whichever loop \n",
    "seems most appropriate. Consider adding print statements to your code to \n",
    "help you resolve bugs.\n",
    "'''\n",
    "\n",
    "headlines = [\"Local Bear Eaten by Man\",\n",
    "             \"Legislature Announces New Laws\",\n",
    "             \"Peasant Discovers Violence Inherent in System\",\n",
    "             \"Cat Rescues Fireman Stuck in Tree\",\n",
    "             \"Brave Knight Runs Away\",\n",
    "             \"Papperbok Review: Totally Triffic\"]\n",
    "\n",
    "news_ticker = \"\"\n",
    "\n",
    "# loop through the headlines and add them to the news ticker\n",
    "for headline in headlines:\n",
    "    # add the headline and a space to the news ticker\n",
    "    news_ticker += headline + \" \"\n",
    "    \n",
    "    # if the news ticker is longer than 140 characters, remove the last \n",
    "    # headline and break the loop\n",
    "    if len(news_ticker) > 140:\n",
    "        news_ticker = news_ticker[:140]\n",
    "        break\n",
    "        \n",
    "print(news_ticker)\n",
    "# This code will add each headline in the headlines list to the news_ticker\n",
    "# string, separated by a space. It will then check the length of news_ticker\n",
    "# and, if it is longer than 140 characters, it will truncate the last \n",
    "# headline that was added and break out of the loop. Finally, it will print\n",
    "# the resulting news_ticker string.\n"
   ]
  },
  {
   "cell_type": "code",
   "execution_count": 13,
   "metadata": {},
   "outputs": [
    {
     "name": "stdout",
     "output_type": "stream",
     "text": [
      "26 is NOT a prime number, because 2 is a factor of 26.\n",
      "39 is NOT a prime number, because 3 is a factor of 39.\n",
      "51 is NOT a prime number, because 3 is a factor of 51.\n",
      "53 IS a prime number.\n",
      "57 is NOT a prime number, because 3 is a factor of 57.\n",
      "79 IS a prime number.\n",
      "85 is NOT a prime number, because 5 is a factor of 85.\n"
     ]
    }
   ],
   "source": [
    "''' \n",
    "In the following coding environment, write code to check if the numbers \n",
    "provided in the list check_prime are prime numbers.\n",
    "\n",
    "    If the numbers are prime, the code should print \"[number] is a prime \n",
    "    number.\"\n",
    "    If the number is NOT a prime number, it should print \"[number] is not \n",
    "    a prime number\", and a factor of that number, other than 1 and the number\n",
    "    itself: \"[factor] is a factor of [number]\".\n",
    "\n",
    "Example output:\n",
    "\n",
    "7 IS a prime number\n",
    "26 is NOT a prime number, because 2 is a factor of 26\n",
    "'''\n",
    "\n",
    "check_prime = [26, 39, 51, 53, 57, 79, 85]\n",
    "\n",
    "for num in check_prime:\n",
    "    for i in range(2, num):\n",
    "        if num % i == 0:\n",
    "            print(f\"{num} is NOT a prime number, because {i} is a factor of {num}.\")\n",
    "            break\n",
    "    else:\n",
    "        print(f\"{num} IS a prime number.\")\n",
    "\n",
    "\n",
    "# The code uses a nested loop to iterate over each number in the list \n",
    "# check_prime, and then over each integer between 2 and the number \n",
    "# itself. If the number is divisible by any integer other than 1 and itself, \n",
    "# it is not a prime number and the loop breaks and prints the factor. If the\n",
    "# loop completes without finding a factor, the number is a prime number and \n",
    "# it prints that result."
   ]
  },
  {
   "cell_type": "code",
   "execution_count": 14,
   "metadata": {},
   "outputs": [
    {
     "name": "stdout",
     "output_type": "stream",
     "text": [
      "hello, \n"
     ]
    }
   ],
   "source": [
    "my_string = \"hello, world\"\n",
    "new_string = my_string.replace(\"world\", \"\")\n",
    "print(new_string)  # Output: \"hello, \""
   ]
  },
  {
   "attachments": {},
   "cell_type": "markdown",
   "metadata": {},
   "source": [
    "# Zip and Enumerate\n",
    "\n",
    "Zip and enumerate are useful built-in functions that can come in handy when dealing with loops.\n",
    "\n"
   ]
  },
  {
   "attachments": {},
   "cell_type": "markdown",
   "metadata": {},
   "source": [
    "# Zip\n",
    "\n",
    "Zip returns an iterator that combines multiple iterables into one sequence of tuples. Each tuple contains the elements in that position from all the iterables. For example, printing\n",
    "\n",
    "list(zip(['a', 'b', 'c'], [1, 2, 3])) would output [('a', 1), ('b', 2), ('c', 3)].\n",
    "\n",
    "Like we did for range() we need to convert it to a list or iterate through it with a loop to see the elements.\n",
    "\n",
    "You could unpack each tuple in a for loop as shown below.\n"
   ]
  },
  {
   "cell_type": "code",
   "execution_count": 15,
   "metadata": {},
   "outputs": [
    {
     "name": "stdout",
     "output_type": "stream",
     "text": [
      "a: 1\n",
      "b: 2\n",
      "c: 3\n"
     ]
    }
   ],
   "source": [
    "letters = ['a', 'b', 'c']\n",
    "nums = [1, 2, 3]\n",
    "\n",
    "for letter, num in zip(letters, nums):\n",
    "    print(\"{}: {}\".format(letter, num))\n"
   ]
  },
  {
   "cell_type": "code",
   "execution_count": 26,
   "metadata": {},
   "outputs": [
    {
     "name": "stdout",
     "output_type": "stream",
     "text": [
      "('a', 'b', 'c') (1, 2, 3)\n"
     ]
    }
   ],
   "source": [
    "# In addition to zipping two lists together, you can also unzip a list into\n",
    "# tuples using an asterisk.\n",
    "\n",
    "some_list = [('a', 1), ('b', 2), ('c', 3)]\n",
    "letters, nums = zip(*some_list)\n",
    "\n",
    "print(letters, nums) # This would create the same letters and nums tuples \n",
    "                    # we saw earlier in the code above."
   ]
  },
  {
   "attachments": {},
   "cell_type": "markdown",
   "metadata": {},
   "source": [
    "# Enumerate\n",
    "\n",
    "Enumerate is a built in function that returns an iterator of tuples containing indices and values of a list. You'll often use this when you want the index along with each element of an iterable in a loop."
   ]
  },
  {
   "cell_type": "code",
   "execution_count": 21,
   "metadata": {},
   "outputs": [
    {
     "name": "stdout",
     "output_type": "stream",
     "text": [
      "0 a\n",
      "1 b\n",
      "2 c\n",
      "3 d\n",
      "4 e\n"
     ]
    }
   ],
   "source": [
    "letters = ['a', 'b', 'c', 'd', 'e']\n",
    "for i, letter in enumerate(letters):\n",
    "    print(i, letter)"
   ]
  },
  {
   "attachments": {},
   "cell_type": "markdown",
   "metadata": {},
   "source": [
    "# Testing zip and enumerate"
   ]
  },
  {
   "cell_type": "code",
   "execution_count": 29,
   "metadata": {},
   "outputs": [
    {
     "name": "stdout",
     "output_type": "stream",
     "text": [
      "('bananas', 'mattresses', 'dog kennels', 'machine', 'cheeses') (15, 24, 42, 120, 5)\n"
     ]
    }
   ],
   "source": [
    "# Zip\n",
    "\n",
    "manifest = [\n",
    "    (\"bananas\", 15), (\"mattresses\", 24), (\"dog kennels\", 42), (\"machine\", 120), \n",
    "    (\"cheeses\", 5)\n",
    "    ]\n",
    "cargo, weight = zip(*manifest)\n",
    "print(cargo, weight)"
   ]
  },
  {
   "cell_type": "code",
   "execution_count": 32,
   "metadata": {},
   "outputs": [
    {
     "name": "stdout",
     "output_type": "stream",
     "text": [
      "0 bananas\n",
      "1 mattresses\n",
      "2 dog kennels\n",
      "3 machine\n",
      "4 cheeses\n"
     ]
    }
   ],
   "source": [
    "# Enumerate\n",
    "\n",
    "manifest = [\n",
    "    (\"bananas\", 15), (\"mattresses\", 24), (\"dog kennels\", 42), (\"machine\", 120), \n",
    "    (\"cheeses\", 5)\n",
    "    ]\n",
    "cargo, weight = zip(*manifest)\n",
    "for i, load in enumerate(cargo):\n",
    "    print(i, load)"
   ]
  },
  {
   "cell_type": "code",
   "execution_count": 34,
   "metadata": {},
   "outputs": [
    {
     "name": "stdout",
     "output_type": "stream",
     "text": [
      "[('a', 1), ('b', 2), ('c', 3)]\n"
     ]
    }
   ],
   "source": [
    "# Converting to a list to see the element\n",
    "\n",
    "letters = ['a', 'b', 'c']\n",
    "nums = [1, 2, 3]\n",
    "print(list(zip(letters, nums)))"
   ]
  },
  {
   "cell_type": "code",
   "execution_count": 37,
   "metadata": {},
   "outputs": [
    {
     "name": "stdout",
     "output_type": "stream",
     "text": [
      "a 1\n",
      "b 2\n",
      "c 3\n"
     ]
    }
   ],
   "source": [
    "# or iterate through it with a for loop if we want to print the values\n",
    "# similar to range\n",
    "\n",
    "letters = ['a', 'b', 'c']\n",
    "nums = [1, 2, 3]\n",
    "for combined in zip(letters, nums):\n",
    "    print(combined[0], combined[1])"
   ]
  },
  {
   "attachments": {},
   "cell_type": "markdown",
   "metadata": {},
   "source": [
    "# Quiz "
   ]
  },
  {
   "cell_type": "code",
   "execution_count": 40,
   "metadata": {},
   "outputs": [
    {
     "name": "stdout",
     "output_type": "stream",
     "text": [
      "F: 23, 677, 4\n",
      "J: 53, 233, 16\n",
      "A: 2, 405, -6\n",
      "Q: -12, 433, -42\n",
      "Y: 95, 905, 3\n",
      "B: 103, 376, -6\n",
      "W: 14, 432, 23\n",
      "X: -5, 445, -1\n"
     ]
    }
   ],
   "source": [
    "''' \n",
    "Use zip to write a for loop that creates a string specifying the label and\n",
    "coordinates of each point and appends it to the list points. Each string \n",
    "should be formatted as label: x, y, z. For example, the string for the \n",
    "first coordinate should be F: 23, 677, 4.\n",
    "'''\n",
    "\n",
    "\n",
    "x_coord = [23, 53, 2, -12, 95, 103, 14, -5]\n",
    "y_coord = [677, 233, 405, 433, 905, 376, 432, 445]\n",
    "z_coord = [4, 16, -6, -42, 3, -6, 23, -1]\n",
    "labels = [\"F\", \"J\", \"A\", \"Q\", \"Y\", \"B\", \"W\", \"X\"]\n",
    "\n",
    "points = []\n",
    "# write your for loop here\n",
    "for label, x, y, z in zip(labels, x_coord, y_coord, z_coord):\n",
    "    point = f\"{label}: {x}, {y}, {z}\"\n",
    "    points.append(point)\n",
    "\n",
    "for point in points:\n",
    "    print(point)\n",
    "\n",
    "# The zip function iterates over multiple sequences in parallel, returning\n",
    "# tuples of corresponding elements. In this case, it combines the labels, \n",
    "# x_coord, y_coord, and z_coord lists into tuples of (label, x, y, z). Then,\n",
    "# in each iteration of the for loop, we create a string point with the \n",
    "# desired format using f-strings, and append it to the points list."
   ]
  },
  {
   "cell_type": "code",
   "execution_count": 41,
   "metadata": {},
   "outputs": [
    {
     "name": "stdout",
     "output_type": "stream",
     "text": [
      "F: 23, 677, 4\n",
      "J: 53, 233, 16\n",
      "A: 2, 405, -6\n",
      "Q: -12, 433, -42\n",
      "Y: 95, 905, 3\n",
      "B: 103, 376, -6\n",
      "W: 14, 432, 23\n",
      "X: -5, 445, -1\n"
     ]
    }
   ],
   "source": [
    "# Another method\n",
    "\n",
    "x_coord = [23, 53, 2, -12, 95, 103, 14, -5]\n",
    "y_coord = [677, 233, 405, 433, 905, 376, 432, 445]\n",
    "z_coord = [4, 16, -6, -42, 3, -6, 23, -1]\n",
    "labels = [\"F\", \"J\", \"A\", \"Q\", \"Y\", \"B\", \"W\", \"X\"]\n",
    "\n",
    "points = []\n",
    "\n",
    "# write your for loop here\n",
    "for point in zip(labels, x_coord, y_coord, z_coord):\n",
    "    points.append(\"{}: {}, {}, {}\".format(*point))\n",
    "    \n",
    "for point in points:\n",
    "    print(point)"
   ]
  },
  {
   "cell_type": "code",
   "execution_count": null,
   "metadata": {},
   "outputs": [],
   "source": []
  }
 ],
 "metadata": {
  "kernelspec": {
   "display_name": "Python 3",
   "language": "python",
   "name": "python3"
  },
  "language_info": {
   "codemirror_mode": {
    "name": "ipython",
    "version": 3
   },
   "file_extension": ".py",
   "mimetype": "text/x-python",
   "name": "python",
   "nbconvert_exporter": "python",
   "pygments_lexer": "ipython3",
   "version": "3.11.1"
  },
  "orig_nbformat": 4,
  "vscode": {
   "interpreter": {
    "hash": "aee8b7b246df8f9039afb4144a1f6fd8d2ca17a180786b69acc140d282b71a49"
   }
  }
 },
 "nbformat": 4,
 "nbformat_minor": 2
}
